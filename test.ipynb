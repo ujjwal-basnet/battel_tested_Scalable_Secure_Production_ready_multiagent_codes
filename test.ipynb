{
 "cells": [
  {
   "cell_type": "code",
   "execution_count": 3,
   "id": "689847f9",
   "metadata": {},
   "outputs": [],
   "source": [
    "from presidio_analyzer import AnalyzerEngine"
   ]
  },
  {
   "cell_type": "code",
   "execution_count": 1,
   "id": "f13444af",
   "metadata": {},
   "outputs": [
    {
     "name": "stdout",
     "output_type": "stream",
     "text": [
      "/home/ujjwal/anaconda3/envs/production_ai/bin/python: No module named spacy\n"
     ]
    }
   ],
   "source": [
    "\n",
    "!python -m spacy download en_core_web_lg"
   ]
  },
  {
   "cell_type": "code",
   "execution_count": 1,
   "id": "2a7a76bf",
   "metadata": {},
   "outputs": [],
   "source": [
    "from presidio_analyzer import AnalyzerEngine\n",
    "from presidio_anonymizer import AnonymizerEngine\n",
    "\n",
    "text=\"My phone number is 212-555-5555\"\n",
    "\n",
    "# Set up the engine, loads the NLP module (spaCy model by default) \n",
    "# and other PII recognizers\n",
    "analyzer = AnalyzerEngine()\n"
   ]
  },
  {
   "cell_type": "code",
   "execution_count": null,
   "id": "684fe4b8",
   "metadata": {},
   "outputs": [
    {
     "data": {
      "text/plain": [
       "[type: PHONE_NUMBER, start: 19, end: 31, score: 0.75]"
      ]
     },
     "execution_count": 7,
     "metadata": {},
     "output_type": "execute_result"
    }
   ],
   "source": [
    "from presidio_analyzer import AnalyzerEngine\n",
    "\n",
    "analyzer = AnalyzerEngine()\n",
    "text = \"My name is Bond, James Bond\"\n",
    "\n",
    "# This returns the list of RecognizerResult objects\n",
    "analyzer_results = analyzer.analyze(text=text, entities=[\"PERSON\", \"LOCATION\" , 'EMAIL' , 'PASS' , 'CV'], language='en')"
   ]
  },
  {
   "cell_type": "code",
   "execution_count": 8,
   "id": "92e437d5",
   "metadata": {},
   "outputs": [
    {
     "name": "stdout",
     "output_type": "stream",
     "text": [
      "text: My name is BIP, BIP\n",
      "items:\n",
      "[\n",
      "    {'start': 16, 'end': 19, 'entity_type': 'PERSON', 'text': 'BIP', 'operator': 'replace'},\n",
      "    {'start': 11, 'end': 14, 'entity_type': 'PERSON', 'text': 'BIP', 'operator': 'replace'}\n",
      "]\n",
      "\n"
     ]
    }
   ],
   "source": [
    "from presidio_anonymizer import AnonymizerEngine\n",
    "from presidio_anonymizer.entities import RecognizerResult, OperatorConfig\n",
    "\n",
    "# Initialize the engine:\n",
    "engine = AnonymizerEngine()\n",
    "\n",
    "# Invoke the anonymize function with the text, \n",
    "# analyzer results (potentially coming from presidio-analyzer) and\n",
    "# Operators to get the anonymization output:\n",
    "result = engine.anonymize(\n",
    "    text=\"My name is Bond, James Bond\",\n",
    "    analyzer_results=[\n",
    "        RecognizerResult(entity_type=\"PERSON\", start=11, end=15, score=0.8),\n",
    "        RecognizerResult(entity_type=\"PERSON\", start=17, end=27, score=0.8),\n",
    "    ],\n",
    "    operators={\"PERSON\": OperatorConfig(\"replace\", {\"new_value\": \"BIP\"})},\n",
    ")\n",
    "\n",
    "print(result)"
   ]
  },
  {
   "cell_type": "code",
   "execution_count": 26,
   "id": "32fc54c0",
   "metadata": {},
   "outputs": [],
   "source": [
    "from presidio_analyzer import AnalyzerEngine, RecognizerRegistry"
   ]
  },
  {
   "cell_type": "code",
   "execution_count": 27,
   "id": "2c8796fc",
   "metadata": {},
   "outputs": [],
   "source": [
    "### presidio's built in recognizer for comman pII task  \n",
    "registry= RecognizerRegistry()\n",
    "registry.load_predefined_recognizers() \n"
   ]
  },
  {
   "cell_type": "code",
   "execution_count": 32,
   "id": "b8ed0be9",
   "metadata": {},
   "outputs": [],
   "source": [
    "## analysis the engin with registry \n",
    "analyzer= AnalyzerEngine(registry= registry)\n",
    "text_to_analyze = \"\"\"\n",
    "hi fafad.gmail.com\n",
    "**fadfa.gmail.com\n",
    "\n",
    "Hello team,\n",
    "Please reach out to emily.stone@medclinic.co.uk or mark_32@work-domain.\n",
    "john.doe@example.org was unavailable, but jane.d@example.com responded.\n",
    "faked.contact@localhost and test_email@domain should not be treated the same.\n",
    "Dr. Anne-Marie O'Neill's details are below:\n",
    "\n",
    "4111 1111 1111 1111\n",
    "5500-0000-0000-0004\n",
    "41111111XXXX1111\n",
    "123456789012\n",
    "021000021\n",
    "GB29NWBK60161331926819\n",
    "DE89370400440532013000\n",
    "XY00TEST00000000000000\n",
    "You can send money on 1BoatSLRHtKNngkdXEeobR76b53LETtpyT. 0x4e83362442b8d1bec281594cea3050c8eb01311c is also an option. 1BoatyMcBoatface and LZ1Y8z6q7fVq9z4vVq are not valid addresses.\n",
    "\n",
    "E.Stone will be in Springfield, Illinois, or perhaps Paris, France.\n",
    "John Q. Public, Alice Johnson, and MED1234567 are the key contacts.\n",
    "Their IDs include 987654321, X1234567, doc-license#MED-4321, and 1234567893.\n",
    "1600 Pennsylvania Ave NW, Washington, DC.\n",
    "Hunter2 is a common password, but Pwd = NotSecure123, p a s s w o r d 1!, and P@$$w0rd are also seen.\n",
    "cGFzc3dvcmQ6U3VwM3JTZWNyZXQ= is a Base64 string.\n",
    "eyJhbGciOiJIUzI1NiIsInR5cCI6IkpXVCJ9... is a token.\n",
    "\n",
    "\"alice.j@example.com\",Hunter2,\"4111 1111 1111 1111\"\n",
    "{\"email\":\"bob[at]example.com\",\"cc\":\"4111111111111111\",\"iban\":\"DE89370400440532013000\"}\n",
    "log: user=eva; email=eva.m@example.com; acc=123456789012; note=ok\n",
    "\n",
    "The resume attached is an old curriculum vitae.\n",
    "next_meeting@example_com\n",
    "invoice_4111111111111111.pdf\n",
    "SN-1234-5678-9012\n",
    "a1b2c3d4e5f6g7h8i9\n",
    "user＠example．com\n",
    "\n",
    "Best,\n",
    "Emily\n",
    "\"\"\""
   ]
  },
  {
   "cell_type": "code",
   "execution_count": 39,
   "id": "a93106ab",
   "metadata": {},
   "outputs": [
    {
     "data": {
      "text/plain": [
       "'\\nhi fafad.gmail.com\\n**fadfa.gmail.com\\n\\nHello team,\\nPlease reach out to emily.stone@medclinic.co.uk or mark_32@work-domain.\\njohn.doe@example.org was unavailable, but jane.d@example.com responded.\\nfaked.contact@localhost and test_email@domain should not be treated the same.\\nDr. Anne-Marie O\\'Neill\\'s details are below:\\n\\n4111 1111 1111 1111\\n5500-0000-0000-0004\\n41111111XXXX1111\\n123456789012\\n021000021\\nGB29NWBK60161331926819\\nDE89370400440532013000\\nXY00TEST00000000000000\\nYou can send money on 1BoatSLRHtKNngkdXEeobR76b53LETtpyT. 0x4e83362442b8d1bec281594cea3050c8eb01311c is also an option. 1BoatyMcBoatface and LZ1Y8z6q7fVq9z4vVq are not valid addresses.\\n\\nE.Stone will be in Springfield, Illinois, or perhaps Paris, France.\\nJohn Q. Public, Alice Johnson, and MED1234567 are the key contacts.\\nTheir IDs include 987654321, X1234567, doc-license#MED-4321, and 1234567893.\\n1600 Pennsylvania Ave NW, Washington, DC.\\nHunter2 is a common password, but Pwd = NotSecure123, p a s s w o r d 1!, and P@$$w0rd are also seen.\\ncGFzc3dvcmQ6U3VwM3JTZWNyZXQ= is a Base64 string.\\neyJhbGciOiJIUzI1NiIsInR5cCI6IkpXVCJ9... is a token.\\n\\n\"alice.j@example.com\",Hunter2,\"4111 1111 1111 1111\"\\n{\"email\":\"bob[at]example.com\",\"cc\":\"4111111111111111\",\"iban\":\"DE89370400440532013000\"}\\nlog: user=eva; email=eva.m@example.com; acc=123456789012; note=ok\\n\\nThe resume attached is an old curriculum vitae.\\nnext_meeting@example_com\\ninvoice_4111111111111111.pdf\\nSN-1234-5678-9012\\na1b2c3d4e5f6g7h8i9\\nuser＠example．com\\n\\nBest,\\nEmily\\n'"
      ]
     },
     "execution_count": 39,
     "metadata": {},
     "output_type": "execute_result"
    }
   ],
   "source": [
    "text_to_analyze"
   ]
  },
  {
   "cell_type": "code",
   "execution_count": null,
   "id": "9d400fe5",
   "metadata": {},
   "outputs": [],
   "source": []
  },
  {
   "cell_type": "code",
   "execution_count": 40,
   "id": "46f4ca66",
   "metadata": {},
   "outputs": [
    {
     "data": {
      "text/plain": [
       "[{'entity_type': 'EMAIL_ADDRESS',\n",
       "  'start': 71,\n",
       "  'end': 98,\n",
       "  'score': 1.0,\n",
       "  'fragment': 'emily.stone@medclinic.co.uk'},\n",
       " {'entity_type': 'EMAIL_ADDRESS',\n",
       "  'start': 123,\n",
       "  'end': 143,\n",
       "  'score': 1.0,\n",
       "  'fragment': 'john.doe@example.org'},\n",
       " {'entity_type': 'EMAIL_ADDRESS',\n",
       "  'start': 165,\n",
       "  'end': 183,\n",
       "  'score': 1.0,\n",
       "  'fragment': 'jane.d@example.com'},\n",
       " {'entity_type': 'CREDIT_CARD',\n",
       "  'start': 318,\n",
       "  'end': 337,\n",
       "  'score': 1.0,\n",
       "  'fragment': '4111 1111 1111 1111'},\n",
       " {'entity_type': 'CREDIT_CARD',\n",
       "  'start': 338,\n",
       "  'end': 357,\n",
       "  'score': 1.0,\n",
       "  'fragment': '5500-0000-0000-0004'},\n",
       " {'entity_type': 'IBAN_CODE',\n",
       "  'start': 398,\n",
       "  'end': 420,\n",
       "  'score': 1.0,\n",
       "  'fragment': 'GB29NWBK60161331926819'},\n",
       " {'entity_type': 'IBAN_CODE',\n",
       "  'start': 421,\n",
       "  'end': 443,\n",
       "  'score': 1.0,\n",
       "  'fragment': 'DE89370400440532013000'},\n",
       " {'entity_type': 'MEDICAL_LICENSE',\n",
       "  'start': 450,\n",
       "  'end': 459,\n",
       "  'score': 1.0,\n",
       "  'fragment': 'ST0000000'},\n",
       " {'entity_type': 'CRYPTO',\n",
       "  'start': 489,\n",
       "  'end': 523,\n",
       "  'score': 1.0,\n",
       "  'fragment': '1BoatSLRHtKNngkdXEeobR76b53LETtpyT'},\n",
       " {'entity_type': 'EMAIL_ADDRESS',\n",
       "  'start': 1113,\n",
       "  'end': 1132,\n",
       "  'score': 1.0,\n",
       "  'fragment': 'alice.j@example.com'},\n",
       " {'entity_type': 'CREDIT_CARD',\n",
       "  'start': 1143,\n",
       "  'end': 1162,\n",
       "  'score': 1.0,\n",
       "  'fragment': '4111 1111 1111 1111'},\n",
       " {'entity_type': 'CREDIT_CARD',\n",
       "  'start': 1200,\n",
       "  'end': 1216,\n",
       "  'score': 1.0,\n",
       "  'fragment': '4111111111111111'},\n",
       " {'entity_type': 'IBAN_CODE',\n",
       "  'start': 1226,\n",
       "  'end': 1248,\n",
       "  'score': 1.0,\n",
       "  'fragment': 'DE89370400440532013000'},\n",
       " {'entity_type': 'EMAIL_ADDRESS',\n",
       "  'start': 1266,\n",
       "  'end': 1289,\n",
       "  'score': 1.0,\n",
       "  'fragment': 'email=eva.m@example.com'},\n",
       " {'entity_type': 'PERSON',\n",
       "  'start': 277,\n",
       "  'end': 297,\n",
       "  'score': 0.85,\n",
       "  'fragment': \"Anne-Marie O'Neill's\"},\n",
       " {'entity_type': 'LOCATION',\n",
       "  'start': 672,\n",
       "  'end': 683,\n",
       "  'score': 0.85,\n",
       "  'fragment': 'Springfield'},\n",
       " {'entity_type': 'LOCATION',\n",
       "  'start': 685,\n",
       "  'end': 693,\n",
       "  'score': 0.85,\n",
       "  'fragment': 'Illinois'},\n",
       " {'entity_type': 'LOCATION',\n",
       "  'start': 706,\n",
       "  'end': 711,\n",
       "  'score': 0.85,\n",
       "  'fragment': 'Paris'},\n",
       " {'entity_type': 'LOCATION',\n",
       "  'start': 713,\n",
       "  'end': 719,\n",
       "  'score': 0.85,\n",
       "  'fragment': 'France'},\n",
       " {'entity_type': 'PERSON',\n",
       "  'start': 721,\n",
       "  'end': 735,\n",
       "  'score': 0.85,\n",
       "  'fragment': 'John Q. Public'},\n",
       " {'entity_type': 'PERSON',\n",
       "  'start': 737,\n",
       "  'end': 750,\n",
       "  'score': 0.85,\n",
       "  'fragment': 'Alice Johnson'},\n",
       " {'entity_type': 'PERSON',\n",
       "  'start': 756,\n",
       "  'end': 766,\n",
       "  'score': 0.85,\n",
       "  'fragment': 'MED1234567'},\n",
       " {'entity_type': 'LOCATION',\n",
       "  'start': 892,\n",
       "  'end': 902,\n",
       "  'score': 0.85,\n",
       "  'fragment': 'Washington'},\n",
       " {'entity_type': 'LOCATION',\n",
       "  'start': 904,\n",
       "  'end': 906,\n",
       "  'score': 0.85,\n",
       "  'fragment': 'DC'},\n",
       " {'entity_type': 'PERSON',\n",
       "  'start': 1166,\n",
       "  'end': 1248,\n",
       "  'score': 0.85,\n",
       "  'fragment': 'email\":\"bob[at]example.com\",\"cc\":\"4111111111111111\",\"iban\":\"DE89370400440532013000'},\n",
       " {'entity_type': 'LOCATION',\n",
       "  'start': 1420,\n",
       "  'end': 1427,\n",
       "  'score': 0.85,\n",
       "  'fragment': 'SN-1234'},\n",
       " {'entity_type': 'US_BANK_NUMBER',\n",
       "  'start': 375,\n",
       "  'end': 387,\n",
       "  'score': 0.05,\n",
       "  'fragment': '123456789012'},\n",
       " {'entity_type': 'US_PASSPORT',\n",
       "  'start': 388,\n",
       "  'end': 397,\n",
       "  'score': 0.05,\n",
       "  'fragment': '021000021'},\n",
       " {'entity_type': 'US_BANK_NUMBER',\n",
       "  'start': 388,\n",
       "  'end': 397,\n",
       "  'score': 0.05,\n",
       "  'fragment': '021000021'},\n",
       " {'entity_type': 'US_PASSPORT',\n",
       "  'start': 807,\n",
       "  'end': 816,\n",
       "  'score': 0.05,\n",
       "  'fragment': '987654321'},\n",
       " {'entity_type': 'US_BANK_NUMBER',\n",
       "  'start': 807,\n",
       "  'end': 816,\n",
       "  'score': 0.05,\n",
       "  'fragment': '987654321'},\n",
       " {'entity_type': 'US_BANK_NUMBER',\n",
       "  'start': 854,\n",
       "  'end': 864,\n",
       "  'score': 0.05,\n",
       "  'fragment': '1234567893'},\n",
       " {'entity_type': 'US_BANK_NUMBER',\n",
       "  'start': 1200,\n",
       "  'end': 1216,\n",
       "  'score': 0.05,\n",
       "  'fragment': '4111111111111111'},\n",
       " {'entity_type': 'US_BANK_NUMBER',\n",
       "  'start': 1295,\n",
       "  'end': 1307,\n",
       "  'score': 0.05,\n",
       "  'fragment': '123456789012'}]"
      ]
     },
     "execution_count": 40,
     "metadata": {},
     "output_type": "execute_result"
    }
   ],
   "source": [
    "from ai_strategy_architecture.pii_utils import analyze_pii\n",
    "analyze_pii(text_to_analyze)"
   ]
  },
  {
   "cell_type": "code",
   "execution_count": 33,
   "id": "cf798931",
   "metadata": {},
   "outputs": [],
   "source": [
    "results = analyzer.analyze(\n",
    "    text=text_to_analyze,\n",
    "    entities=[\"EMAIL_ADDRESS\", \"CREDIT_CARD\", \"PERSON\", \"LOCATION\", \"CRYPTO\" , \"IBAN_CODE\", \"MEDICAL_LICENSE\" , \"US_BANK_NUMBER\", \"US_PASSPORT\"],\n",
    "    language='en'\n",
    ")"
   ]
  },
  {
   "cell_type": "code",
   "execution_count": 34,
   "id": "16c89576",
   "metadata": {},
   "outputs": [],
   "source": [
    "anonymizer= AnonymizerEngine() \n"
   ]
  },
  {
   "cell_type": "code",
   "execution_count": 35,
   "id": "03478c91",
   "metadata": {},
   "outputs": [
    {
     "data": {
      "text/plain": [
       "[type: EMAIL_ADDRESS, start: 71, end: 98, score: 1.0,\n",
       " type: EMAIL_ADDRESS, start: 123, end: 143, score: 1.0,\n",
       " type: EMAIL_ADDRESS, start: 165, end: 183, score: 1.0,\n",
       " type: CREDIT_CARD, start: 318, end: 337, score: 1.0,\n",
       " type: CREDIT_CARD, start: 338, end: 357, score: 1.0,\n",
       " type: IBAN_CODE, start: 398, end: 420, score: 1.0,\n",
       " type: IBAN_CODE, start: 421, end: 443, score: 1.0,\n",
       " type: MEDICAL_LICENSE, start: 450, end: 459, score: 1.0,\n",
       " type: CRYPTO, start: 489, end: 523, score: 1.0,\n",
       " type: EMAIL_ADDRESS, start: 1113, end: 1132, score: 1.0,\n",
       " type: CREDIT_CARD, start: 1143, end: 1162, score: 1.0,\n",
       " type: CREDIT_CARD, start: 1200, end: 1216, score: 1.0,\n",
       " type: IBAN_CODE, start: 1226, end: 1248, score: 1.0,\n",
       " type: EMAIL_ADDRESS, start: 1266, end: 1289, score: 1.0,\n",
       " type: PERSON, start: 277, end: 297, score: 0.85,\n",
       " type: LOCATION, start: 672, end: 683, score: 0.85,\n",
       " type: LOCATION, start: 685, end: 693, score: 0.85,\n",
       " type: LOCATION, start: 706, end: 711, score: 0.85,\n",
       " type: LOCATION, start: 713, end: 719, score: 0.85,\n",
       " type: PERSON, start: 721, end: 735, score: 0.85,\n",
       " type: PERSON, start: 737, end: 750, score: 0.85,\n",
       " type: PERSON, start: 756, end: 766, score: 0.85,\n",
       " type: LOCATION, start: 892, end: 902, score: 0.85,\n",
       " type: LOCATION, start: 904, end: 906, score: 0.85,\n",
       " type: PERSON, start: 1166, end: 1248, score: 0.85,\n",
       " type: LOCATION, start: 1420, end: 1427, score: 0.85,\n",
       " type: US_BANK_NUMBER, start: 375, end: 387, score: 0.05,\n",
       " type: US_PASSPORT, start: 388, end: 397, score: 0.05,\n",
       " type: US_BANK_NUMBER, start: 388, end: 397, score: 0.05,\n",
       " type: US_PASSPORT, start: 807, end: 816, score: 0.05,\n",
       " type: US_BANK_NUMBER, start: 807, end: 816, score: 0.05,\n",
       " type: US_BANK_NUMBER, start: 854, end: 864, score: 0.05,\n",
       " type: US_BANK_NUMBER, start: 1200, end: 1216, score: 0.05,\n",
       " type: US_BANK_NUMBER, start: 1295, end: 1307, score: 0.05]"
      ]
     },
     "execution_count": 35,
     "metadata": {},
     "output_type": "execute_result"
    }
   ],
   "source": [
    "results"
   ]
  },
  {
   "cell_type": "markdown",
   "id": "b5c2b84b",
   "metadata": {},
   "source": []
  },
  {
   "cell_type": "code",
   "execution_count": 36,
   "id": "56245182",
   "metadata": {},
   "outputs": [
    {
     "data": {
      "text/plain": [
       "text: \n",
       "hi fafad.gmail.com\n",
       "**fadfa.gmail.com\n",
       "\n",
       "Hello team,\n",
       "Please reach out to <EMAIL_ADDRESS> or mark_32@work-domain.\n",
       "<EMAIL_ADDRESS> was unavailable, but <EMAIL_ADDRESS> responded.\n",
       "faked.contact@localhost and test_email@domain should not be treated the same.\n",
       "Dr. <PERSON> details are below:\n",
       "\n",
       "<CREDIT_CARD>\n",
       "<CREDIT_CARD>\n",
       "41111111XXXX1111\n",
       "<US_BANK_NUMBER>\n",
       "<US_BANK_NUMBER>\n",
       "<IBAN_CODE>\n",
       "<IBAN_CODE>\n",
       "XY00TE<MEDICAL_LICENSE>0000000\n",
       "You can send money on <CRYPTO>. 0x4e83362442b8d1bec281594cea3050c8eb01311c is also an option. 1BoatyMcBoatface and LZ1Y8z6q7fVq9z4vVq are not valid addresses.\n",
       "\n",
       "E.Stone will be in <LOCATION>, <LOCATION>, or perhaps <LOCATION>, <LOCATION>.\n",
       "<PERSON>, <PERSON>, and <PERSON> are the key contacts.\n",
       "Their IDs include <US_BANK_NUMBER>, X1234567, doc-license#MED-4321, and <US_BANK_NUMBER>.\n",
       "1600 Pennsylvania Ave NW, <LOCATION>, <LOCATION>.\n",
       "Hunter2 is a common password, but Pwd = NotSecure123, p a s s w o r d 1!, and P@$$w0rd are also seen.\n",
       "cGFzc3dvcmQ6U3VwM3JTZWNyZXQ= is a Base64 string.\n",
       "eyJhbGciOiJIUzI1NiIsInR5cCI6IkpXVCJ9... is a token.\n",
       "\n",
       "\"<EMAIL_ADDRESS>\",Hunter2,\"<CREDIT_CARD>\"\n",
       "{\"<PERSON>\"}\n",
       "log: user=eva; <EMAIL_ADDRESS>; acc=<US_BANK_NUMBER>; note=ok\n",
       "\n",
       "The resume attached is an old curriculum vitae.\n",
       "next_meeting@example_com\n",
       "invoice_4111111111111111.pdf\n",
       "<LOCATION>-5678-9012\n",
       "a1b2c3d4e5f6g7h8i9\n",
       "user＠example．com\n",
       "\n",
       "Best,\n",
       "Emily\n",
       "\n",
       "items:\n",
       "[\n",
       "    {'start': 1277, 'end': 1287, 'entity_type': 'LOCATION', 'text': '<LOCATION>', 'operator': 'replace'},\n",
       "    {'start': 1148, 'end': 1164, 'entity_type': 'US_BANK_NUMBER', 'text': '<US_BANK_NUMBER>', 'operator': 'replace'},\n",
       "    {'start': 1127, 'end': 1142, 'entity_type': 'EMAIL_ADDRESS', 'text': '<EMAIL_ADDRESS>', 'operator': 'replace'},\n",
       "    {'start': 1101, 'end': 1109, 'entity_type': 'PERSON', 'text': '<PERSON>', 'operator': 'replace'},\n",
       "    {'start': 1084, 'end': 1097, 'entity_type': 'CREDIT_CARD', 'text': '<CREDIT_CARD>', 'operator': 'replace'},\n",
       "    {'start': 1058, 'end': 1073, 'entity_type': 'EMAIL_ADDRESS', 'text': '<EMAIL_ADDRESS>', 'operator': 'replace'},\n",
       "    {'start': 841, 'end': 851, 'entity_type': 'LOCATION', 'text': '<LOCATION>', 'operator': 'replace'},\n",
       "    {'start': 829, 'end': 839, 'entity_type': 'LOCATION', 'text': '<LOCATION>', 'operator': 'replace'},\n",
       "    {'start': 785, 'end': 801, 'entity_type': 'US_BANK_NUMBER', 'text': '<US_BANK_NUMBER>', 'operator': 'replace'},\n",
       "    {'start': 731, 'end': 747, 'entity_type': 'US_BANK_NUMBER', 'text': '<US_BANK_NUMBER>', 'operator': 'replace'},\n",
       "    {'start': 682, 'end': 690, 'entity_type': 'PERSON', 'text': '<PERSON>', 'operator': 'replace'},\n",
       "    {'start': 668, 'end': 676, 'entity_type': 'PERSON', 'text': '<PERSON>', 'operator': 'replace'},\n",
       "    {'start': 658, 'end': 666, 'entity_type': 'PERSON', 'text': '<PERSON>', 'operator': 'replace'},\n",
       "    {'start': 646, 'end': 656, 'entity_type': 'LOCATION', 'text': '<LOCATION>', 'operator': 'replace'},\n",
       "    {'start': 634, 'end': 644, 'entity_type': 'LOCATION', 'text': '<LOCATION>', 'operator': 'replace'},\n",
       "    {'start': 611, 'end': 621, 'entity_type': 'LOCATION', 'text': '<LOCATION>', 'operator': 'replace'},\n",
       "    {'start': 599, 'end': 609, 'entity_type': 'LOCATION', 'text': '<LOCATION>', 'operator': 'replace'},\n",
       "    {'start': 442, 'end': 450, 'entity_type': 'CRYPTO', 'text': '<CRYPTO>', 'operator': 'replace'},\n",
       "    {'start': 395, 'end': 412, 'entity_type': 'MEDICAL_LICENSE', 'text': '<MEDICAL_LICENSE>', 'operator': 'replace'},\n",
       "    {'start': 377, 'end': 388, 'entity_type': 'IBAN_CODE', 'text': '<IBAN_CODE>', 'operator': 'replace'},\n",
       "    {'start': 365, 'end': 376, 'entity_type': 'IBAN_CODE', 'text': '<IBAN_CODE>', 'operator': 'replace'},\n",
       "    {'start': 348, 'end': 364, 'entity_type': 'US_BANK_NUMBER', 'text': '<US_BANK_NUMBER>', 'operator': 'replace'},\n",
       "    {'start': 331, 'end': 347, 'entity_type': 'US_BANK_NUMBER', 'text': '<US_BANK_NUMBER>', 'operator': 'replace'},\n",
       "    {'start': 300, 'end': 313, 'entity_type': 'CREDIT_CARD', 'text': '<CREDIT_CARD>', 'operator': 'replace'},\n",
       "    {'start': 286, 'end': 299, 'entity_type': 'CREDIT_CARD', 'text': '<CREDIT_CARD>', 'operator': 'replace'},\n",
       "    {'start': 257, 'end': 265, 'entity_type': 'PERSON', 'text': '<PERSON>', 'operator': 'replace'},\n",
       "    {'start': 148, 'end': 163, 'entity_type': 'EMAIL_ADDRESS', 'text': '<EMAIL_ADDRESS>', 'operator': 'replace'},\n",
       "    {'start': 111, 'end': 126, 'entity_type': 'EMAIL_ADDRESS', 'text': '<EMAIL_ADDRESS>', 'operator': 'replace'},\n",
       "    {'start': 71, 'end': 86, 'entity_type': 'EMAIL_ADDRESS', 'text': '<EMAIL_ADDRESS>', 'operator': 'replace'}\n",
       "]"
      ]
     },
     "execution_count": 36,
     "metadata": {},
     "output_type": "execute_result"
    }
   ],
   "source": [
    "anonymizer.anonymize(\n",
    "    text= text_to_analyze, \n",
    "    analyzer_results= results\n",
    ")"
   ]
  },
  {
   "cell_type": "code",
   "execution_count": null,
   "id": "a43595dc",
   "metadata": {},
   "outputs": [],
   "source": []
  }
 ],
 "metadata": {
  "kernelspec": {
   "display_name": "production_ai",
   "language": "python",
   "name": "python3"
  },
  "language_info": {
   "codemirror_mode": {
    "name": "ipython",
    "version": 3
   },
   "file_extension": ".py",
   "mimetype": "text/x-python",
   "name": "python",
   "nbconvert_exporter": "python",
   "pygments_lexer": "ipython3",
   "version": "3.11.14"
  }
 },
 "nbformat": 4,
 "nbformat_minor": 5
}
